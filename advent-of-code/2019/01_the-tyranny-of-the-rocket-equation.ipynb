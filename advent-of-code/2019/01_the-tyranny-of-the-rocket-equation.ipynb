{
 "cells": [
  {
   "cell_type": "code",
   "execution_count": 1,
   "metadata": {},
   "outputs": [],
   "source": [
    "modules = open('./data/01_input.txt', 'r')\n",
    "modules = modules.read().split('\\n')\n",
    "modules = modules[:-1]\n",
    "modules = [int(m) for m in modules]"
   ]
  },
  {
   "cell_type": "code",
   "execution_count": 2,
   "metadata": {},
   "outputs": [
    {
     "data": {
      "text/plain": [
       "[123265,\n",
       " 68442,\n",
       " 94896,\n",
       " 94670,\n",
       " 145483,\n",
       " 93807,\n",
       " 88703,\n",
       " 139755,\n",
       " 53652,\n",
       " 52754,\n",
       " 128052,\n",
       " 81533,\n",
       " 56602,\n",
       " 96476,\n",
       " 87674,\n",
       " 102510,\n",
       " 95735,\n",
       " 69174,\n",
       " 136331,\n",
       " 51266,\n",
       " 148009,\n",
       " 72417,\n",
       " 52577,\n",
       " 86813,\n",
       " 60803,\n",
       " 149232,\n",
       " 115843,\n",
       " 138175,\n",
       " 94723,\n",
       " 85623,\n",
       " 97925,\n",
       " 141772,\n",
       " 63662,\n",
       " 107293,\n",
       " 130779,\n",
       " 147027,\n",
       " 88003,\n",
       " 77238,\n",
       " 53184,\n",
       " 149255,\n",
       " 71921,\n",
       " 139799,\n",
       " 84851,\n",
       " 104899,\n",
       " 92290,\n",
       " 74438,\n",
       " 55631,\n",
       " 58655,\n",
       " 140496,\n",
       " 110176,\n",
       " 138718,\n",
       " 104768,\n",
       " 93177,\n",
       " 53212,\n",
       " 129572,\n",
       " 69877,\n",
       " 139944,\n",
       " 116062,\n",
       " 51362,\n",
       " 135245,\n",
       " 59682,\n",
       " 128705,\n",
       " 98105,\n",
       " 69172,\n",
       " 89244,\n",
       " 109048,\n",
       " 88690,\n",
       " 62124,\n",
       " 53981,\n",
       " 71885,\n",
       " 59216,\n",
       " 107718,\n",
       " 146343,\n",
       " 138788,\n",
       " 73588,\n",
       " 51648,\n",
       " 122227,\n",
       " 54507,\n",
       " 59283,\n",
       " 101230,\n",
       " 93080,\n",
       " 123120,\n",
       " 148248,\n",
       " 102909,\n",
       " 91199,\n",
       " 105704,\n",
       " 113956,\n",
       " 120368,\n",
       " 75020,\n",
       " 103734,\n",
       " 81791,\n",
       " 87323,\n",
       " 77278,\n",
       " 123013,\n",
       " 58901,\n",
       " 136351,\n",
       " 121295,\n",
       " 132994,\n",
       " 84039,\n",
       " 76813]"
      ]
     },
     "execution_count": 2,
     "metadata": {},
     "output_type": "execute_result"
    }
   ],
   "source": [
    "modules"
   ]
  },
  {
   "cell_type": "code",
   "execution_count": 3,
   "metadata": {},
   "outputs": [],
   "source": [
    "def get_fuel(mass, part=1):\n",
    "    f = mass\n",
    "    if part == 1:\n",
    "        return f // 3 - 2\n",
    "    else:\n",
    "        fuel = []\n",
    "        while f > 0:\n",
    "            f = f // 3 - 2\n",
    "            fuel.append(f)\n",
    "        return sum(fuel[:-1])"
   ]
  },
  {
   "cell_type": "code",
   "execution_count": 4,
   "metadata": {},
   "outputs": [
    {
     "data": {
      "text/plain": [
       "33583"
      ]
     },
     "execution_count": 4,
     "metadata": {},
     "output_type": "execute_result"
    }
   ],
   "source": [
    "get_fuel(100756)"
   ]
  },
  {
   "cell_type": "code",
   "execution_count": 5,
   "metadata": {},
   "outputs": [
    {
     "data": {
      "text/plain": [
       "3229279"
      ]
     },
     "execution_count": 5,
     "metadata": {},
     "output_type": "execute_result"
    }
   ],
   "source": [
    "sum([get_fuel(m) for m in modules])"
   ]
  },
  {
   "cell_type": "code",
   "execution_count": 6,
   "metadata": {},
   "outputs": [
    {
     "data": {
      "text/plain": [
       "4841054"
      ]
     },
     "execution_count": 6,
     "metadata": {},
     "output_type": "execute_result"
    }
   ],
   "source": [
    "sum([get_fuel(m, part=2) for m in modules])"
   ]
  }
 ],
 "metadata": {
  "file_extension": ".py",
  "kernelspec": {
   "display_name": "Python 3",
   "language": "python",
   "name": "python3"
  },
  "language_info": {
   "codemirror_mode": {
    "name": "ipython",
    "version": 3
   },
   "file_extension": ".py",
   "mimetype": "text/x-python",
   "name": "python",
   "nbconvert_exporter": "python",
   "pygments_lexer": "ipython3",
   "version": "3.7.3"
  },
  "mimetype": "text/x-python",
  "name": "python",
  "npconvert_exporter": "python",
  "pygments_lexer": "ipython3",
  "version": 3
 },
 "nbformat": 4,
 "nbformat_minor": 2
}
