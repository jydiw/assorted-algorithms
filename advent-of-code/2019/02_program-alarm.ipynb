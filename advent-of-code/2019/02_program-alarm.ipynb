{
 "cells": [
  {
   "cell_type": "code",
   "execution_count": 34,
   "metadata": {},
   "outputs": [],
   "source": [
    "example = [1, 9, 10, 3, 2, 3, 11, 0, 99, 30, 40, 50]"
   ]
  },
  {
   "cell_type": "code",
   "execution_count": 75,
   "metadata": {},
   "outputs": [],
   "source": [
    "def intcode(lon, noun=12, verb=2):\n",
    "    l = lon.copy()\n",
    "    l[1] = noun\n",
    "    l[2] = verb\n",
    "    step = 0\n",
    "    ran = [0, 1, 2, 3]\n",
    "    while ran[3] < len(l):\n",
    "        if l[ran[0]] == 1:\n",
    "            l[l[ran[3]]] = l[l[ran[1]]] + l[l[ran[2]]]\n",
    "        elif l[ran[0]] == 2:\n",
    "            l[l[ran[3]]] = l[l[ran[1]]] * l[l[ran[2]]]\n",
    "        elif l[ran[0]] == 99:\n",
    "            break\n",
    "        step += 1\n",
    "        ran = list(range(4*step, 4*(step+1)))\n",
    "    return l[0]"
   ]
  },
  {
   "cell_type": "code",
   "execution_count": 65,
   "metadata": {},
   "outputs": [
    {
     "name": "stdout",
     "output_type": "stream",
     "text": [
      "step 0\n",
      "[2, 4, 4, 5, 99, 0]\n",
      "position 2 is 2\n",
      "position 5 is 0\n",
      "it will get replaced by 9801\n"
     ]
    },
    {
     "data": {
      "text/plain": [
       "[2, 4, 4, 5, 99, 9801]"
      ]
     },
     "execution_count": 65,
     "metadata": {},
     "output_type": "execute_result"
    }
   ],
   "source": [
    "intcode([2,4,4,5,99,0])"
   ]
  },
  {
   "cell_type": "code",
   "execution_count": 43,
   "metadata": {},
   "outputs": [
    {
     "data": {
      "text/plain": [
       "[30, 1, 1, 4, 2, 5, 6, 0, 99]"
      ]
     },
     "execution_count": 43,
     "metadata": {},
     "output_type": "execute_result"
    }
   ],
   "source": [
    "example = [1,1,1,4,99,5,6,0,99]\n",
    "intcode(example)"
   ]
  },
  {
   "cell_type": "code",
   "execution_count": 72,
   "metadata": {},
   "outputs": [],
   "source": [
    "program = open('./02_input.txt', 'r')\n",
    "program = program.read()\n",
    "program = program.split(',')\n",
    "program = [int(p) for p in program]"
   ]
  },
  {
   "cell_type": "code",
   "execution_count": 76,
   "metadata": {},
   "outputs": [
    {
     "data": {
      "text/plain": [
       "3058646"
      ]
     },
     "execution_count": 76,
     "metadata": {},
     "output_type": "execute_result"
    }
   ],
   "source": [
    "intcode(program)"
   ]
  },
  {
   "cell_type": "code",
   "execution_count": 78,
   "metadata": {},
   "outputs": [
    {
     "name": "stdout",
     "output_type": "stream",
     "text": [
      "8976\n"
     ]
    }
   ],
   "source": [
    "for n in range(0,100):\n",
    "    for v in range(0,100):\n",
    "        if intcode(program, noun=n, verb=v) == 19690720:\n",
    "            print(100 * n + v)\n",
    "            break"
   ]
  },
  {
   "cell_type": "code",
   "execution_count": null,
   "metadata": {},
   "outputs": [],
   "source": []
  }
 ],
 "metadata": {
  "file_extension": ".py",
  "kernelspec": {
   "display_name": "Python 3",
   "language": "python",
   "name": "python3"
  },
  "language_info": {
   "codemirror_mode": {
    "name": "ipython",
    "version": 3
   },
   "file_extension": ".py",
   "mimetype": "text/x-python",
   "name": "python",
   "nbconvert_exporter": "python",
   "pygments_lexer": "ipython3",
   "version": "3.7.3"
  },
  "mimetype": "text/x-python",
  "name": "python",
  "npconvert_exporter": "python",
  "pygments_lexer": "ipython3",
  "version": 3
 },
 "nbformat": 4,
 "nbformat_minor": 2
}
