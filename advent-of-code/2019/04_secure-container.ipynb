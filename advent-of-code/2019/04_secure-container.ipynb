{
 "cells": [
  {
   "cell_type": "code",
   "execution_count": 2,
   "metadata": {},
   "outputs": [],
   "source": [
    "'''\n",
    "six digit number\n",
    "value is within range\n",
    "two adjacent digits are the same\n",
    "digits never decrease\n",
    "'''"
   ]
  },
  {
   "cell_type": "code",
   "execution_count": 75,
   "metadata": {},
   "outputs": [],
   "source": [
    "def password_counter(lo=153517, hi=630395, part=1):\n",
    "    count = 0\n",
    "    for num in range(lo, hi):               \n",
    "        num = [int(i) for i in str(num)]    # converts to list so sorting is possible\n",
    "        if sorted(num) == num:              # if numbers are the same or consecutive\n",
    "            if part == 1:                   # if at least one number repeats\n",
    "                if len(set(num)) < 6:\n",
    "                    count += 1\n",
    "            if part == 2:                   # if any number repeats only twice              \n",
    "                if 2 in [num.count(d) for d in num]:\n",
    "                    count += 1\n",
    "    return count"
   ]
  },
  {
   "cell_type": "code",
   "execution_count": 77,
   "metadata": {},
   "outputs": [
    {
     "data": {
      "text/plain": [
       "1172"
      ]
     },
     "execution_count": 77,
     "metadata": {},
     "output_type": "execute_result"
    }
   ],
   "source": [
    "password_counter(part=2)"
   ]
  }
 ],
 "metadata": {
  "file_extension": ".py",
  "kernelspec": {
   "display_name": "Python 3",
   "language": "python",
   "name": "python3"
  },
  "language_info": {
   "codemirror_mode": {
    "name": "ipython",
    "version": 3
   },
   "file_extension": ".py",
   "mimetype": "text/x-python",
   "name": "python",
   "nbconvert_exporter": "python",
   "pygments_lexer": "ipython3",
   "version": "3.7.3"
  },
  "mimetype": "text/x-python",
  "name": "python",
  "npconvert_exporter": "python",
  "pygments_lexer": "ipython3",
  "version": 3
 },
 "nbformat": 4,
 "nbformat_minor": 2
}
