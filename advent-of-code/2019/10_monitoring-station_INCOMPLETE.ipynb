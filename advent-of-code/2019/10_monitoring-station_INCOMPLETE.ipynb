{
 "cells": [
  {
   "cell_type": "code",
   "execution_count": 1,
   "metadata": {},
   "outputs": [],
   "source": [
    "from sympy import fraction, Rational, Point\n",
    "import numpy as np\n",
    "import pandas as pd\n",
    "from pprint import pprint"
   ]
  },
  {
   "cell_type": "code",
   "execution_count": 2,
   "metadata": {},
   "outputs": [
    {
     "output_type": "execute_result",
     "data": {
      "text/plain": "['.#..#..##.#...###.#............#.',\n '.....#..........##..#..#####.#..#',\n '#....#...#..#.......#...........#',\n '.#....#....#....#.#...#.#.#.#....',\n '..#..#.....#.......###.#.#.##....',\n '...#.##.###..#....#........#..#.#',\n '..#.##..#.#.#...##..........#...#',\n '..#..#.......................#..#',\n '...#..#.#...##.#...#.#..#.#......',\n '......#......#.....#.............',\n '.###..#.#..#...#..#.#.......##..#',\n '.#...#.................###......#',\n '#.#.......#..####.#..##.###.....#',\n '.#.#..#.#...##.#.#..#..##.#.#.#..',\n '##...#....#...#....##....#.#....#',\n '......#..#......#.#.....##..#.#..',\n '##.###.....#.#.###.#..#..#..###..',\n '#...........#.#..#..#..#....#....',\n '..........#.#.#..#.###...#.....#.',\n '...#.###........##..#..##........',\n '.###.....#.#.###...##.........#..',\n '#.#...##.....#.#.........#..#.###',\n '..##..##........#........#......#',\n '..####......#...#..........#.#...',\n '......##...##.#........#...##.##.',\n '.#..###...#.......#........#....#',\n '...##...#..#...#..#..#.#.#...#...',\n '....#......#.#............##.....',\n '#......####...#.....#...#......#.',\n '...#............#...#..#.#.#..#.#',\n '.#...#....###.####....#.#........',\n '#.#...##...#.##...#....#.#..##.#.',\n '.#....#.###..#..##.#.##...#.#..##']"
     },
     "metadata": {},
     "execution_count": 2
    }
   ],
   "source": [
    "raw = open('./data/10_input.txt', 'r')\n",
    "raw = raw.read().split('\\n')\n",
    "test = raw[:-1]\n",
    "test"
   ]
  },
  {
   "cell_type": "code",
   "execution_count": 133,
   "metadata": {},
   "outputs": [],
   "source": [
    "class Asteroids():\n",
    "\n",
    "    def __init__(self, field=None):\n",
    "        if len(field) > 0:\n",
    "            self.field = np.array([[c for c in r] for r in field])\n",
    "            self.max_cols = len(self.field[0])\n",
    "            self.max_rows = len(self.field)\n",
    "            self.asteroids = np.array(\n",
    "                [Asteroid(c, r, self.field) for r in range(self.max_rows) \\\n",
    "                 for c in range(self.max_cols) \\\n",
    "                 if self.field[r][c] == '#']\n",
    "            )\n",
    "            self._has_not_been_lasered = True\n",
    "\n",
    "    def find_best_location(self):\n",
    "        visible = []\n",
    "        for a in self.asteroids:\n",
    "            a.scan()\n",
    "            visible.append(a.asteroids_detected)\n",
    "        self.best = self.asteroids[visible.index(max(visible))]\n",
    "        return self.best\n",
    "\n",
    "    def build_station(self, col, row):\n",
    "        self.row = row\n",
    "        self.col = col\n",
    "        self.field[row][col] = '@'\n",
    "\n",
    "    def scan_from_station(self):\n",
    "        return self.scan(self.col, self.row)\n",
    "\n",
    "    def nth_vaporized(self, n=200):\n",
    "        if self._has_not_been_lasered:\n",
    "            self.best.giant_laser()\n",
    "            self._has_not_been_lasered = False\n",
    "        return self.best.nth_vaporized(n)\n"
   ]
  },
  {
   "cell_type": "code",
   "execution_count": 145,
   "metadata": {},
   "outputs": [],
   "source": [
    "class Asteroid():\n",
    "\n",
    "    def __init__(self, c, r, field):\n",
    "        self.col = c\n",
    "        self.row = r\n",
    "        self.field = field\n",
    "        # self.field[self.row][self.col] = '@'\n",
    "        self.max_cols = len(self.field[0])\n",
    "        self.max_rows = len(self.field)\n",
    "        self.neighbors = np.array(\n",
    "            [(c, r) for r in range(self.max_rows) \\\n",
    "            for c in range(self.max_cols) \\\n",
    "            if self.field[r][c] == '#']\n",
    "        )\n",
    "\n",
    "    def scan(self):\n",
    "        cur = (self.col, self.row)\n",
    "        self.distances = [np.linalg.norm(a-cur) for a in self.neighbors]\n",
    "        self.angles = np.array([np.arctan2(cur[1]-a[1], -1*(cur[0]-a[0])) for a in self.neighbors])\n",
    "\n",
    "    def giant_laser(self):\n",
    "        self._rotate()\n",
    "        self._idx = np.lexsort((self.distances, self.new_angles))\n",
    "        self._neighbors = [self.neighbors[i] for i in self._idx]\n",
    "\n",
    "    def nth_vaporized(self, n):\n",
    "        return self._neighbors[n-1]\n",
    "\n",
    "    def _rotate(self):\n",
    "        new_angles = []\n",
    "        for a in self.angles:\n",
    "            if (a <= np.pi/2) and (a >= -1 * np.pi):\n",
    "                new_angles.append(np.pi/2 - a)\n",
    "            else:\n",
    "                new_angles.append(2.5*np.pi - a)\n",
    "        self.new_angles = new_angles\n",
    "\n",
    "    @property\n",
    "    def asteroids_detected(self):\n",
    "        return len(set(self.angles))\n",
    "    \n",
    "    @property\n",
    "    def coordinates(self):\n",
    "        return (self.col, self.row)\n",
    "\n",
    "    def __str__(self):\n",
    "        return f'({self.col}, {self.row})'"
   ]
  },
  {
   "cell_type": "code",
   "execution_count": 88,
   "metadata": {},
   "outputs": [],
   "source": [
    "example1 = [\n",
    "    '......#.#.',\n",
    "    '#..#.#....',\n",
    "    '..#######.',\n",
    "    '.#.#.###..',\n",
    "    '.#..#.....',\n",
    "    '..#....#.#',\n",
    "    '#..#....#.',\n",
    "    '.##.#..###',\n",
    "    '##...#..#.',\n",
    "    '.#....####'\n",
    "]"
   ]
  },
  {
   "cell_type": "code",
   "execution_count": 117,
   "metadata": {},
   "outputs": [],
   "source": [
    "example2 = [\n",
    "'.#..##.###...#######',\n",
    "'##.############..##.',\n",
    "'.#.######.########.#',\n",
    "'.###.#######.####.#.',\n",
    "'#####.##.#.##.###.##',\n",
    "'..#####..#.#########',\n",
    "'####################',\n",
    "'#.####....###.#.#.##',\n",
    "'##.#################',\n",
    "'#####.##.###..####..',\n",
    "'..######..##.#######',\n",
    "'####.##.####...##..#',\n",
    "'.#####..#.######.###',\n",
    "'##...#.##########...',\n",
    "'#.##########.#######',\n",
    "'.####.#.###.###.#.##',\n",
    "'....##.##.###..#####',\n",
    "'.#.#.###########.###',\n",
    "'#.#.#.#####.####.###',\n",
    "'###.##.####.##.#..##'\n",
    "]"
   ]
  },
  {
   "cell_type": "code",
   "execution_count": 128,
   "metadata": {
    "tags": []
   },
   "outputs": [],
   "source": [
    "asteroids = Asteroids(example1)\n",
    "best = asteroids.find_best_location()"
   ]
  },
  {
   "cell_type": "code",
   "execution_count": 129,
   "metadata": {},
   "outputs": [
    {
     "output_type": "execute_result",
     "data": {
      "text/plain": "33"
     },
     "metadata": {},
     "execution_count": 129
    }
   ],
   "source": [
    "best.asteroids_detected"
   ]
  },
  {
   "cell_type": "code",
   "execution_count": 114,
   "metadata": {},
   "outputs": [
    {
     "output_type": "execute_result",
     "data": {
      "text/plain": "(5, 8)"
     },
     "metadata": {},
     "execution_count": 114
    }
   ],
   "source": [
    "best.coordinates"
   ]
  },
  {
   "cell_type": "code",
   "execution_count": 142,
   "metadata": {
    "tags": []
   },
   "outputs": [
    {
     "output_type": "execute_result",
     "data": {
      "text/plain": "<__main__.Asteroid at 0x1ea4c27e248>"
     },
     "metadata": {},
     "execution_count": 142
    }
   ],
   "source": [
    "asteroids = Asteroids(example2)\n",
    "asteroids.find_best_location()"
   ]
  },
  {
   "cell_type": "code",
   "execution_count": 144,
   "metadata": {},
   "outputs": [
    {
     "output_type": "execute_result",
     "data": {
      "text/plain": "array([11, 12])"
     },
     "metadata": {},
     "execution_count": 144
    }
   ],
   "source": [
    "asteroids.nth_vaporized(0)"
   ]
  },
  {
   "cell_type": "code",
   "execution_count": 25,
   "metadata": {},
   "outputs": [
    {
     "output_type": "execute_result",
     "data": {
      "text/plain": "array([[5, 0],\n       [7, 0],\n       [9, 0],\n       [0, 1],\n       [2, 1],\n       [6, 1],\n       [7, 1],\n       [8, 1],\n       [9, 1],\n       [2, 2],\n       [3, 2],\n       [5, 2],\n       [7, 2],\n       [9, 2],\n       [0, 3],\n       [2, 3],\n       [3, 3],\n       [9, 3],\n       [1, 4],\n       [2, 4],\n       [3, 4],\n       [8, 4],\n       [2, 5],\n       [4, 5],\n       [7, 5],\n       [1, 6],\n       [2, 6],\n       [3, 6],\n       [6, 6],\n       [2, 7],\n       [5, 7],\n       [7, 7],\n       [3, 8],\n       [4, 8],\n       [7, 8],\n       [8, 8],\n       [9, 8],\n       [1, 9],\n       [6, 9],\n       [8, 9]])"
     },
     "metadata": {},
     "execution_count": 25
    }
   ],
   "source": [
    "asteroids.asteroids"
   ]
  },
  {
   "cell_type": "code",
   "execution_count": 49,
   "metadata": {},
   "outputs": [
    {
     "output_type": "execute_result",
     "data": {
      "text/plain": "array([-2.76108628,  3.14159265, -2.03444394, -2.24553727, -2.49809154,\n       -2.03444394, -2.11121583, -2.21429744, -2.35619449, -2.55359005,\n       -2.8198421 ,  3.14159265, -1.84909599, -1.9513027 , -2.15879893,\n       -2.35619449, -2.67794504, -1.71269338, -1.81577499, -1.57079633,\n       -1.57079633,  1.57079633, -1.44644133, -1.37340077,  0.        ,\n       -1.29249667, -1.24904577, -1.10714872, -0.46364761,  0.        ,\n        0.46364761, -1.21202566, -1.16590454, -0.78539816,  0.        ,\n       -1.05165021, -0.46364761, -0.24497866,  0.        ,  0.24497866])"
     },
     "metadata": {},
     "execution_count": 49
    }
   ],
   "source": [
    "asteroids.angles"
   ]
  },
  {
   "cell_type": "code",
   "execution_count": 22,
   "metadata": {},
   "outputs": [],
   "source": [
    "def asteroid_scan(field, row, col):\n",
    "    \n",
    "    cur = (float(row), float(col))\n",
    "\n",
    "    mc = len(field[0])   # max columns\n",
    "    mr = len(field)      # max rows\n",
    "        \n",
    "    asteroids = np.array([(r, c) for r in range(mr) for c in range(mc) if field[r][c] == '#'])\n",
    "    \n",
    "    distances = [np.linalg.norm(a-cur) for a in asteroids]\n",
    "    angles = np.array([np.arctan2(a[0]-cur[0], a[1]-cur[1]) for a in asteroids])\n",
    "\n",
    "    return asteroids, distances, angles\n",
    "\n",
    "\n",
    "\n",
    "def asteroids_detected(field, row, col)\n",
    "    \n",
    "    # sorted_index = np.argsort(distances)\n",
    "    # angles = angles[sorted_index]\n",
    "    \n",
    "    # used_angles = {}\n",
    "    # detections = 0\n",
    "    \n",
    "    # for i, asteroid in enumerate(asteroids):\n",
    "    #     k = used_angles.pop(angles[i], None)\n",
    "    #     if k is None:\n",
    "    #         used_angles[angles[i]] = i\n",
    "    #         detections += 1\n",
    "    \n",
    "    # return detections"
   ]
  },
  {
   "cell_type": "code",
   "execution_count": 4,
   "metadata": {},
   "outputs": [],
   "source": []
  },
  {
   "cell_type": "code",
   "execution_count": 5,
   "metadata": {},
   "outputs": [],
   "source": [
    "def best(field, very_best=False):\n",
    "    result = []\n",
    "    for i, row in enumerate(field):\n",
    "        resrow = []\n",
    "        for j, char in enumerate(row):\n",
    "            if char == '.':\n",
    "                resrow.append(0)\n",
    "            elif char == '#':\n",
    "                resrow.append(asteroids_detected(field, i, j))\n",
    "        result.append(resrow)\n",
    "    if very_best:\n",
    "        # value = 0\n",
    "        # for resrow in result:\n",
    "        #     if max(resrow) > value:\n",
    "        #         value = max(resrow)\n",
    "        return np.max(result)\n",
    "    else:\n",
    "        return result"
   ]
  }
 ],
 "metadata": {
  "kernelspec": {
   "display_name": "Python 3",
   "language": "python",
   "name": "python3"
  },
  "language_info": {
   "codemirror_mode": {
    "name": "ipython",
    "version": 3
   },
   "file_extension": ".py",
   "mimetype": "text/x-python",
   "name": "python",
   "nbconvert_exporter": "python",
   "pygments_lexer": "ipython3",
   "version": "3.7.9-final"
  }
 },
 "nbformat": 4,
 "nbformat_minor": 2
}