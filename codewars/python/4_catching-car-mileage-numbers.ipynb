{
 "cells": [
  {
   "cell_type": "code",
   "execution_count": 48,
   "metadata": {},
   "outputs": [],
   "source": [
    "import numpy as np"
   ]
  },
  {
   "cell_type": "code",
   "execution_count": 68,
   "metadata": {},
   "outputs": [],
   "source": [
    "def is_interesting(number, awesome_phrases):\r\n",
    "    candidates = np.array(range(number, number+3))\r\n",
    "    if all(candidates < 100):\r\n",
    "        return 0\r\n",
    "    matrix = np.zeros((4, 3), dtype='int8')\r\n",
    "    matrix[0] = list(map(followed_by_zeros, candidates))\r\n",
    "    matrix[1] = list(map(is_palindrome, candidates))\r\n",
    "    matrix[2] = list(map(is_sequential, candidates))\r\n",
    "    matrix[3] = list(map(lambda x: x in awesome_phrases, candidates))\r\n",
    "    matrix_sum = np.sum(matrix, axis=0)\r\n",
    "    return matrix\r\n",
    "    if matrix_sum[0] > 0:\r\n",
    "        return 2\r\n",
    "    elif matrix_sum[1] + matrix_sum[2] > 0:\r\n",
    "        return 1\r\n",
    "    else:\r\n",
    "        return 0\r\n",
    "    \r\n",
    "# followed by all zeros\r\n",
    "def followed_by_zeros(n):\r\n",
    "    return n % 10 ** math.floor(math.log10(n)) == 0\r\n",
    "  \r\n",
    "# every digit same number (can be combined with palindrome)\r\n",
    "def is_palindrome(n):\r\n",
    "    n = str(n)\r\n",
    "    return n == n[::-1]\r\n",
    "\r\n",
    "def is_sequential(n):\r\n",
    "    sequence = ''.join([str(d) for d in list(range(0,10)) + [0]])\r\n",
    "    return (str(n) in sequence) or (str(n)[::-1] in sequence)"
   ]
  },
  {
   "cell_type": "code",
   "execution_count": 69,
   "metadata": {},
   "outputs": [
    {
     "data": {
      "text/plain": "array([[0, 0, 1],\n       [0, 1, 0],\n       [1, 0, 0],\n       [0, 0, 0]], dtype=int8)"
     },
     "execution_count": 69,
     "metadata": {},
     "output_type": "execute_result"
    }
   ],
   "source": [
    "is_interesting(98, [])"
   ]
  },
  {
   "cell_type": "code",
   "execution_count": 3,
   "metadata": {},
   "outputs": [],
   "source": [
    "import math"
   ]
  },
  {
   "cell_type": "code",
   "execution_count": 7,
   "metadata": {},
   "outputs": [
    {
     "data": {
      "text/plain": "3"
     },
     "execution_count": 7,
     "metadata": {},
     "output_type": "execute_result"
    }
   ],
   "source": [
    "math.floor(math.log10(5000))"
   ]
  },
  {
   "cell_type": "code",
   "execution_count": null,
   "metadata": {},
   "outputs": [],
   "source": []
  }
 ],
 "metadata": {
  "kernelspec": {
   "display_name": "Python 3",
   "name": "python3"
  },
  "language_info": {
   "codemirror_mode": {
    "name": "ipython",
    "version": 3
   },
   "file_extension": ".py",
   "mimetype": "text/x-python",
   "name": "python",
   "nbconvert_exporter": "python",
   "pygments_lexer": "ipython3",
   "version": "3.7.9"
  },
  "orig_nbformat": 2
 },
 "nbformat": 4,
 "nbformat_minor": 2
}