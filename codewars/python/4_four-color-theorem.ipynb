{
 "cells": [
  {
   "cell_type": "code",
   "execution_count": 88,
   "metadata": {},
   "outputs": [],
   "source": [
    "import numpy as np\r\n",
    "from collections import defaultdict"
   ]
  },
  {
   "cell_type": "code",
   "execution_count": 197,
   "metadata": {},
   "outputs": [],
   "source": [
    "def color(testmap):\r\n",
    "    matrix = np.array([[c for c in row] for row in testmap.split('\\n') if len(row) > 0])\r\n",
    "    matches = adjacent(matrix)\r\n",
    "    return matches\r\n",
    "    values = set(frozenset(s) for s in matches.values())\r\n",
    "    num_subsets = 0\r\n",
    "    for v in values:\r\n",
    "        mv = values.copy()\r\n",
    "        mv.remove(v)\r\n",
    "        num_subsets += any(v.issubset(w) for w in mv)\r\n",
    "    return len(values) - num_subsets"
   ]
  },
  {
   "cell_type": "code",
   "execution_count": 195,
   "metadata": {},
   "outputs": [],
   "source": [
    "testmap = \"\"\"\r\n",
    "abcdefg\r\n",
    "abcdefg\r\n",
    "abcdefg\r\n",
    "abcdefg\r\n",
    "\"\"\""
   ]
  },
  {
   "cell_type": "code",
   "execution_count": 182,
   "metadata": {},
   "outputs": [
    {
     "data": {
      "text/plain": "True"
     },
     "execution_count": 182,
     "metadata": {},
     "output_type": "execute_result"
    }
   ],
   "source": [
    "{'D'}.issubset(frozenset({'B', 'D'}))"
   ]
  },
  {
   "cell_type": "code",
   "execution_count": 198,
   "metadata": {},
   "outputs": [
    {
     "data": {
      "text/plain": "defaultdict(set,\n            {'a': {'b'},\n             'b': {'a', 'c'},\n             'c': {'b', 'd'},\n             'd': {'c', 'e'},\n             'e': {'d', 'f'},\n             'f': {'e', 'g'},\n             'g': {'f'}})"
     },
     "execution_count": 198,
     "metadata": {},
     "output_type": "execute_result"
    }
   ],
   "source": [
    "color(testmap)\r\n"
   ]
  },
  {
   "cell_type": "code",
   "execution_count": 117,
   "metadata": {},
   "outputs": [],
   "source": [
    "def get_matrix(testmap):\r\n",
    "  matrix = np.array([[c for c in row] for row in testmap.split('\\n') if len(row) > 0])\r\n",
    "  return matrix"
   ]
  },
  {
   "cell_type": "code",
   "execution_count": 129,
   "metadata": {},
   "outputs": [],
   "source": [
    "def extent(idx, lim):\r\n",
    "  return max(idx-1, 0), min(idx+1, lim)"
   ]
  },
  {
   "cell_type": "code",
   "execution_count": 130,
   "metadata": {},
   "outputs": [],
   "source": [
    "def neighbors(row, col, matrix):\r\n",
    "  n = []\r\n",
    "  if row - 1 >= 0:\r\n",
    "    n.append(matrix[row-1, col])\r\n",
    "  if row + 1 < matrix.shape[0]:\r\n",
    "    n.append(matrix[row+1, col])\r\n",
    "  if col - 1 >= 0:\r\n",
    "    n.append(matrix[row, col-1])\r\n",
    "  if col + 1 < matrix.shape[1]:\r\n",
    "    n.append(matrix[row, col+1])\r\n",
    "  return set(n)"
   ]
  },
  {
   "cell_type": "code",
   "execution_count": 135,
   "metadata": {},
   "outputs": [],
   "source": [
    "{3, 4}.remove(4)"
   ]
  },
  {
   "cell_type": "code",
   "execution_count": 175,
   "metadata": {},
   "outputs": [],
   "source": [
    "def adjacent(matrix):\r\n",
    "  matches = defaultdict(set)\r\n",
    "  for row in range(matrix.shape[0]):\r\n",
    "    for col in range(matrix.shape[1]):\r\n",
    "      n = neighbors(row, col, matrix)\r\n",
    "      matches[matrix[row, col]].update(n)\r\n",
    "  for k, v in matches.items():\r\n",
    "    matches[k].discard(k)\r\n",
    "    # matchstring = ''.join(sorted(list(v)))\r\n",
    "    # matchstring = matchstring.replace(k, '')\r\n",
    "    # matches[k] = matchstring\r\n",
    "  return matches"
   ]
  },
  {
   "cell_type": "code",
   "execution_count": 141,
   "metadata": {},
   "outputs": [],
   "source": []
  },
  {
   "cell_type": "code",
   "execution_count": 151,
   "metadata": {},
   "outputs": [
    {
     "ename": "TypeError",
     "evalue": "'NoneType' object is not iterable",
     "output_type": "error",
     "traceback": [
      "\u001b[1;31m---------------------------------------------------------------------------\u001b[0m",
      "\u001b[1;31mTypeError\u001b[0m                                 Traceback (most recent call last)",
      "\u001b[1;32m<ipython-input-151-a88dfbd3f2e0>\u001b[0m in \u001b[0;36m<module>\u001b[1;34m\u001b[0m\n\u001b[1;32m----> 1\u001b[1;33m \u001b[0mcolor\u001b[0m\u001b[1;33m(\u001b[0m\u001b[0mtestmap\u001b[0m\u001b[1;33m)\u001b[0m\u001b[1;33m\u001b[0m\u001b[1;33m\u001b[0m\u001b[0m\n\u001b[0m",
      "\u001b[1;32m<ipython-input-150-275a802ea18a>\u001b[0m in \u001b[0;36mcolor\u001b[1;34m(testmap)\u001b[0m\n\u001b[0;32m      7\u001b[0m       \u001b[0mvalues_copy\u001b[0m \u001b[1;33m=\u001b[0m \u001b[0mvalues\u001b[0m\u001b[1;33m.\u001b[0m\u001b[0mcopy\u001b[0m\u001b[1;33m(\u001b[0m\u001b[1;33m)\u001b[0m\u001b[1;33m\u001b[0m\u001b[1;33m\u001b[0m\u001b[0m\n\u001b[0;32m      8\u001b[0m       \u001b[0mmv\u001b[0m \u001b[1;33m=\u001b[0m \u001b[0mvalues_copy\u001b[0m\u001b[1;33m.\u001b[0m\u001b[0mremove\u001b[0m\u001b[1;33m(\u001b[0m\u001b[0mv\u001b[0m\u001b[1;33m)\u001b[0m\u001b[1;33m\u001b[0m\u001b[1;33m\u001b[0m\u001b[0m\n\u001b[1;32m----> 9\u001b[1;33m       \u001b[1;32mfor\u001b[0m \u001b[0mw\u001b[0m \u001b[1;32min\u001b[0m \u001b[0mmv\u001b[0m\u001b[1;33m:\u001b[0m\u001b[1;33m\u001b[0m\u001b[1;33m\u001b[0m\u001b[0m\n\u001b[0m\u001b[0;32m     10\u001b[0m         \u001b[0mprint\u001b[0m\u001b[1;33m(\u001b[0m\u001b[0mv\u001b[0m\u001b[1;33m.\u001b[0m\u001b[0missubset\u001b[0m\u001b[1;33m(\u001b[0m\u001b[0mw\u001b[0m\u001b[1;33m)\u001b[0m\u001b[1;33m)\u001b[0m\u001b[1;33m\u001b[0m\u001b[1;33m\u001b[0m\u001b[0m\n\u001b[0;32m     11\u001b[0m     \u001b[1;32mreturn\u001b[0m \u001b[0mlen\u001b[0m\u001b[1;33m(\u001b[0m\u001b[0mvalues\u001b[0m\u001b[1;33m)\u001b[0m \u001b[1;33m-\u001b[0m \u001b[0mnum_subsets\u001b[0m\u001b[1;33m\u001b[0m\u001b[1;33m\u001b[0m\u001b[0m\n",
      "\u001b[1;31mTypeError\u001b[0m: 'NoneType' object is not iterable"
     ]
    }
   ],
   "source": []
  },
  {
   "cell_type": "code",
   "execution_count": 99,
   "metadata": {},
   "outputs": [
    {
     "data": {
      "text/plain": "array([['A', 'A', 'A'],\n       ['A', 'B', 'C'],\n       ['D', 'B', 'C']], dtype='<U5')"
     },
     "execution_count": 99,
     "metadata": {},
     "output_type": "execute_result"
    }
   ],
   "source": [
    "m"
   ]
  },
  {
   "cell_type": "code",
   "execution_count": 74,
   "metadata": {},
   "outputs": [
    {
     "data": {
      "text/plain": "array([['A', 'A', 'A'],\n       ['C', 'D', 'A'],\n       ['D', 'D', 'A']], dtype='<U5')"
     },
     "execution_count": 74,
     "metadata": {},
     "output_type": "execute_result"
    }
   ],
   "source": [
    "m[0:3, 2:5]"
   ]
  },
  {
   "cell_type": "code",
   "execution_count": 86,
   "metadata": {},
   "outputs": [
    {
     "data": {
      "text/plain": "{'B', 'C'}"
     },
     "execution_count": 86,
     "metadata": {},
     "output_type": "execute_result"
    }
   ],
   "source": [
    "neighbors(0, 1, m)"
   ]
  },
  {
   "cell_type": "code",
   "execution_count": 75,
   "metadata": {},
   "outputs": [
    {
     "data": {
      "text/plain": "array([['A', 'A', 'A'],\n       ['A', 'nan', 'n'],\n       ['A', 'D', 'D']], dtype='<U5')"
     },
     "execution_count": 75,
     "metadata": {},
     "output_type": "execute_result"
    }
   ],
   "source": [
    "n = neighbors(1, 1, m)\r\n",
    "n[1, 1] = 'nan'\r\n",
    "n[1, 2] = 'n'\r\n",
    "# set(n.flatten())\r\n",
    "n"
   ]
  },
  {
   "cell_type": "code",
   "execution_count": 112,
   "metadata": {},
   "outputs": [
    {
     "data": {
      "text/plain": "3"
     },
     "execution_count": 112,
     "metadata": {},
     "output_type": "execute_result"
    }
   ],
   "source": [
    "\r\n"
   ]
  },
  {
   "cell_type": "code",
   "execution_count": null,
   "metadata": {},
   "outputs": [],
   "source": []
  }
 ],
 "metadata": {
  "kernelspec": {
   "display_name": "Python 3",
   "name": "python3"
  },
  "language_info": {
   "codemirror_mode": {
    "name": "ipython",
    "version": 3
   },
   "file_extension": ".py",
   "mimetype": "text/x-python",
   "name": "python",
   "nbconvert_exporter": "python",
   "pygments_lexer": "ipython3",
   "version": "3.7.9"
  },
  "orig_nbformat": 2
 },
 "nbformat": 4,
 "nbformat_minor": 2
}