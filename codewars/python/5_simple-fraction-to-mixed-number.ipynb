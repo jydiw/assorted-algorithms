{
 "cells": [
  {
   "cell_type": "code",
   "execution_count": 5,
   "metadata": {},
   "outputs": [],
   "source": [
    "def mixed_fraction(s):\r\n",
    "  n, d = [int(d) for d in s.split('/')]\r\n",
    "  if n == 0:\r\n",
    "    return '0'\r\n",
    "  integer = n // d\r\n",
    "  remainder = n % d\r\n",
    "  return f'{integer} {remainder}/{d}'"
   ]
  },
  {
   "cell_type": "code",
   "execution_count": 6,
   "metadata": {},
   "outputs": [
    {
     "data": {
      "text/plain": "'-4 6/7'"
     },
     "execution_count": 6,
     "metadata": {},
     "output_type": "execute_result"
    }
   ],
   "source": [
    "mixed_fraction('-22/7')"
   ]
  },
  {
   "cell_type": "code",
   "execution_count": 20,
   "metadata": {},
   "outputs": [],
   "source": [
    "import math\r\n",
    "from collections import defaultdict"
   ]
  },
  {
   "cell_type": "code",
   "execution_count": 34,
   "metadata": {},
   "outputs": [],
   "source": [
    "def maxArea(height):\r\n",
    "        container = defaultdict(list)\r\n",
    "        for i, h in enumerate(height):\r\n",
    "            container[h].append(i)\r\n",
    "        heights = list(container.keys())\r\n",
    "        heights.sort()\r\n",
    "        heights = heights[::-1]\r\n",
    "        area = 0\r\n",
    "        to_append = []\r\n",
    "        for i, h in enumerate(heights):\r\n",
    "            if i > 0:\r\n",
    "                container[h] += container[heights[i-1]]\r\n",
    "            if h * len(height) < area:\r\n",
    "                break\r\n",
    "            area = max(area, h * (max(container[h]) - min(container[h])))\r\n",
    "            print(h)\r\n",
    "            print(area)\r\n",
    "            print()\r\n",
    "        return area"
   ]
  },
  {
   "cell_type": "code",
   "execution_count": 35,
   "metadata": {},
   "outputs": [
    {
     "name": "stdout",
     "output_type": "stream",
     "text": [
      "14\n",
      "0\n",
      "\n",
      "13\n",
      "26\n",
      "\n",
      "11\n",
      "77\n",
      "\n",
      "10\n",
      "80\n",
      "\n",
      "9\n",
      "80\n",
      "\n",
      "8\n",
      "80\n",
      "\n"
     ]
    },
    {
     "data": {
      "text/plain": "80"
     },
     "execution_count": 35,
     "metadata": {},
     "output_type": "execute_result"
    }
   ],
   "source": [
    "maxArea([8,10,14,0,13,10,9,9,11,11])"
   ]
  },
  {
   "cell_type": "code",
   "execution_count": 14,
   "metadata": {},
   "outputs": [
    {
     "name": "stdout",
     "output_type": "stream",
     "text": [
      "digit is 1\n",
      "x is 23\n",
      "y is 1\n",
      "digit is 0\n",
      "x is 23\n",
      "y is 1\n"
     ]
    },
    {
     "data": {
      "text/plain": "1"
     },
     "execution_count": 14,
     "metadata": {},
     "output_type": "execute_result"
    }
   ],
   "source": [
    "reverse(123)"
   ]
  },
  {
   "cell_type": "code",
   "execution_count": null,
   "metadata": {},
   "outputs": [],
   "source": []
  }
 ],
 "metadata": {
  "kernelspec": {
   "display_name": "Python 3",
   "language": "python",
   "name": "python3"
  },
  "language_info": {
   "codemirror_mode": {
    "name": "ipython",
    "version": 3
   },
   "file_extension": ".py",
   "mimetype": "text/x-python",
   "name": "python",
   "nbconvert_exporter": "python",
   "pygments_lexer": "ipython3",
   "version": "3.9.0-final"
  },
  "orig_nbformat": 2
 },
 "nbformat": 4,
 "nbformat_minor": 2
}