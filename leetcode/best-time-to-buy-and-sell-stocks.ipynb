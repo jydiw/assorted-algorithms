{
 "cells": [
  {
   "cell_type": "markdown",
   "metadata": {},
   "source": [
    "Say you have an array prices for which the ith element is the price of a given stock on day i.\r\n",
    "\r\n",
    "Design an algorithm to find the maximum profit. You may complete as many transactions as you like (i.e., buy one and sell one share of the stock multiple times).\r\n",
    "\r\n",
    "Note: You may not engage in multiple transactions at the same time (i.e., you must sell the stock before you buy again).\r\n",
    "\r\n",
    "Input: [7,1,5,3,6,4]\r\n",
    "Output: 7\r\n",
    "Explanation: Buy on day 2 (price = 1) and sell on day 3 (price = 5), profit = 5                                  Then buy on day 4 (price = 3) and sell on day 5 (price = 6), profit = 6-3 = 3.\r\n",
    "\r\n",
    "Input: [1,2,3,4,5]\r\n",
    "Output: 4\r\n",
    "Explanation: Buy on day 1 (price = 1) and sell on day 5 (price = 5), profi                        \r\n",
    "             Note that you cannot buy on day 1, buy on day 2 and sell them late                        e\r\n",
    "             engaging multiple transactions at the same time. You must sell before buying again.\r\n",
    "\r\n",
    "Input: [7,6,4,3,1]\r\n",
    "Output: 0\r\n",
    "Explanation: In this case, no transaction is done, i.e. max profit = 0.\r\n",
    "\r\n",
    "Constraints:\r\n",
    "\r\n",
    "1 <= prices.length <= 3 * 10 ^ 4\r\n",
    "0 <= prices[i] <= 10 ^ 4"
   ]
  },
  {
   "cell_type": "code",
   "execution_count": 24,
   "metadata": {},
   "outputs": [
    {
     "name": "stdout",
     "output_type": "stream",
     "text": [
      "profit: 0 start: 1\n",
      "profit: 1 start: 2\n",
      "profit: 2 start: 3\n",
      "profit: 3 start: 4\n",
      "profit: 4 start: 5\n"
     ]
    },
    {
     "data": {
      "text/plain": [
       "4"
      ]
     },
     "execution_count": 24,
     "metadata": {},
     "output_type": "execute_result"
    }
   ],
   "source": [
    "def max_profit(prices):\r",
    "     profit = 0      start = prices[0    \n",
    "  for i in range(len(prices)            if prices[i] - start >                 profit += prices[i] - s                  start = pric        ]\r\n",
    "    # profit += max(prices[i] - sta        0)\r\n",
    "    start = min(start, pri        i])\r\n",
    "    print(f'profit: {profit} start: {    art}')\r\n",
    "  return profit\r\n",
    "\r\n",
    "max_profit([1,2,3,4,5])"
   ]
  },
  {
   "cell_type": "code",
   "execution_count": null,
   "metadata": {},
   "outputs": [],
   "source": []
  }
 ],
 "metadata": {
  "kernelspec": {
   "display_name": "Python 3",
   "language": "python",
   "name": "python3"
  },
  "language_info": {
   "codemirror_mode": {
    "name": "ipython",
    "version": 3
   },
   "file_extension": ".py",
   "mimetype": "text/x-python",
   "name": "python",
   "nbconvert_exporter": "python",
   "pygments_lexer": "ipython3",
   "version": "3.7.9"
  }
 },
 "nbformat": 4,
 "nbformat_minor": 4
}
