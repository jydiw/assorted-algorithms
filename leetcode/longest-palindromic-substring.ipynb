{
 "cells": [
  {
   "cell_type": "markdown",
   "metadata": {},
   "source": [
    "Given a string s, return the longest palindromic substring in s.\n",
    "\n",
    "Below is an implementation of Manacher's algorithm."
   ]
  },
  {
   "cell_type": "code",
   "execution_count": null,
   "metadata": {},
   "outputs": [],
   "source": [
    "class Solution:\r\n",
    "    \r\n",
    "    def modified_string(self, string):\r\n",
    "        '''\r\n",
    "        This allows us to account for even-length palindromes.\r\n",
    "        eg: beef -> #b#e#e#f#\r\n",
    "            longest palindromic substring = #e#e# -> ee\r\n",
    "        '''\r\n",
    "        new_string = '#'\r\n",
    "        for c in string:\r\n",
    "            new_string += c + '#'\r\n",
    "        return new_string\r\n",
    "    \r\n",
    "    def longestPalindrome(self, s: str) -> str:\r\n",
    "        s = self.modified_string(s)\r\n",
    "        lengths = [0 for _ in range(len(s))]    # initialize lengths with 0s\r\n",
    "        cen = 0                                 # center starts at index 0\r\n",
    "        ran = 0                                 # range of sweep starts at 0\r\n",
    "        for i in range(len(s)):\r\n",
    "            i_mirror = 2 * cen - i              # \r\n",
    "            if ran > i:\r\n",
    "                lengths[i] = min(ran - i, lengths[i_mirror])\r\n",
    "            else:\r\n",
    "                lengths[i] = 0\r\n",
    "            try:                                # sweep out from index\r\n",
    "                while s[i+1+lengths[i]] == s[i-1-lengths[i]]:\r\n",
    "                    lengths[i] += 1\r\n",
    "            except:\r\n",
    "                pass\r\n",
    "            if i + lengths[i] > ran:\r\n",
    "                cen = i\r\n",
    "                ran = i + lengths[i]\r\n",
    "        c, r = lengths.index(max(lengths)), max(lengths)\r\n",
    "        return s[c - r : c + r].replace('#', '')"
   ]
  }
 ],
 "metadata": {
  "kernelspec": {
   "display_name": "Python 3",
   "language": "python",
   "name": "python3"
  },
  "language_info": {
   "codemirror_mode": {
    "name": "ipython",
    "version": 3
   },
   "file_extension": ".py",
   "mimetype": "text/x-python",
   "name": "python",
   "nbconvert_exporter": "python",
   "pygments_lexer": "ipython3",
   "version": "3.7.9"
  }
 },
 "nbformat": 4,
 "nbformat_minor": 4
}