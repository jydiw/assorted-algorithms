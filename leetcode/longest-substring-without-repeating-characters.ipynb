{
 "cells": [
  {
   "cell_type": "markdown",
   "metadata": {},
   "source": [
    "Given a string s, find the length of the longest substring without repeating characters."
   ]
  },
  {
   "cell_type": "code",
   "execution_count": null,
   "metadata": {},
   "outputs": [],
   "source": [
    "def lengthOfLongestSubstring(self, s: str) -> int:\r\n",
    "    if len(s) < 2:\r\n",
    "        return len(s)\r\n",
    "    d = dict()\r\n",
    "    longest = 0\r\n",
    "    memory = 0\r\n",
    "    for i, c in enumerate(s):\r\n",
    "        try:\r\n",
    "            longest = max(longest, i - d[c])\r\n",
    "            memory = max(memory, d[c])\r\n",
    "        except:\r\n",
    "            pass\r\n",
    "        d[c] = i\r\n",
    "    return max(longest, len(s) - memory)"
   ]
  },
  {
   "cell_type": "code",
   "execution_count": 39,
   "metadata": {},
   "outputs": [],
   "source": [
    "def lengthOfLongestSubstring(s: str) -> int:\r\n",
    "    if len(s) < 2:\r\n",
    "        return len(s)\r\n",
    "    position = dict()   # position of letters and their latest occurrence\r\n",
    "    longest = 0         # length of longest string\r\n",
    "    start = 0           # starting at 0\r\n",
    "    end = 0\r\n",
    "    for i, c in enumerate(s):\r\n",
    "        if c not in position:\r\n",
    "            position[c] = i\r\n",
    "        else:\r\n",
    "            # c has been encountered before\r\n",
    "            # its last position is position[c]\r\n",
    "            if i - position[c] > longest:\r\n",
    "                longest = i - position[c] - 1\r\n",
    "                start = position[c]\r\n",
    "                position[c] = i\r\n",
    "    # return longest\r\n",
    "    return s[start-1:start+longest-1]"
   ]
  },
  {
   "cell_type": "code",
   "execution_count": 41,
   "metadata": {},
   "outputs": [
    {
     "data": {
      "text/plain": "'ab'"
     },
     "execution_count": 41,
     "metadata": {},
     "output_type": "execute_result"
    }
   ],
   "source": [
    "lengthOfLongestSubstring('abcabcbb')"
   ]
  },
  {
   "cell_type": "markdown",
   "metadata": {},
   "source": [
    "g is not in position\r\n",
    "position[g] = 0\r\n",
    "\r\n",
    "e is not in position\r\n",
    "position[e] = 1\r\n",
    "\r\n",
    "e is in position\r\n",
    "2 - position[e] - 1 "
   ]
  },
  {
   "cell_type": "markdown",
   "metadata": {},
   "source": []
  }
 ],
 "metadata": {
  "kernelspec": {
   "display_name": "Python 3",
   "name": "python3"
  },
  "language_info": {
   "codemirror_mode": {
    "name": "ipython",
    "version": 3
   },
   "file_extension": ".py",
   "mimetype": "text/x-python",
   "name": "python",
   "nbconvert_exporter": "python",
   "pygments_lexer": "ipython3",
   "version": "3.7.9"
  },
  "orig_nbformat": 2
 },
 "nbformat": 4,
 "nbformat_minor": 2
}