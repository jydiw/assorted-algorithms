{
 "cells": [
  {
   "cell_type": "markdown",
   "metadata": {},
   "source": [
    "A coin was flipped 1000 times, and 550 times it showed up heads. Do you think the coin is biased? Why or why not?"
   ]
  },
  {
   "cell_type": "code",
   "execution_count": 1,
   "metadata": {},
   "outputs": [],
   "source": [
    "import scipy.stats as stats"
   ]
  },
  {
   "cell_type": "code",
   "execution_count": 4,
   "metadata": {},
   "outputs": [
    {
     "data": {
      "text/plain": [
       "0.0006958707972113398"
      ]
     },
     "execution_count": 4,
     "metadata": {},
     "output_type": "execute_result"
    }
   ],
   "source": [
    "# method 1: \n",
    "# finding cumulative distribution function of rolling more than 550 heads\n",
    "\n",
    "ph = 0.5\n",
    "flips = 1000\n",
    "\n",
    "coin_dist = stats.binom(flips, ph)\n",
    "1 - coin_dist.cdf(550)"
   ]
  },
  {
   "cell_type": "code",
   "execution_count": 5,
   "metadata": {},
   "outputs": [
    {
     "data": {
      "text/plain": [
       "3.1622776601683795"
      ]
     },
     "execution_count": 5,
     "metadata": {},
     "output_type": "execute_result"
    }
   ],
   "source": [
    "# method 2:\n",
    "# using central limit theorem to calculate z-score\n",
    "\n",
    "def binomial_z(p, flips, num_x):\n",
    "    \n",
    "    mu = flips * ph\n",
    "    var = mu * (1 - ph)\n",
    "    std = var ** 0.5\n",
    "\n",
    "    return (num_x - mu) / std\n",
    "\n",
    "binomial_z(0.5, 1000, 550)"
   ]
  },
  {
   "cell_type": "markdown",
   "metadata": {},
   "source": [
    "Coin is most likely biased."
   ]
  }
 ],
 "metadata": {
  "kernelspec": {
   "display_name": "Python 3",
   "language": "python",
   "name": "python3"
  },
  "language_info": {
   "codemirror_mode": {
    "name": "ipython",
    "version": 3
   },
   "file_extension": ".py",
   "mimetype": "text/x-python",
   "name": "python",
   "nbconvert_exporter": "python",
   "pygments_lexer": "ipython3",
   "version": "3.7.7"
  }
 },
 "nbformat": 4,
 "nbformat_minor": 4
}
