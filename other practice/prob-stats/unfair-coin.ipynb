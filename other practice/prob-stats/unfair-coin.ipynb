{
 "cells": [
  {
   "cell_type": "markdown",
   "metadata": {},
   "source": [
    "There is a fair coin (one side heads, one side tails) and an unfair coin (both sides tails). You pick one at random, flip it 6 times, and observe that it comes up as tails all six times. What is the chance that you are flipping the unfair coin?"
   ]
  },
  {
   "cell_type": "code",
   "execution_count": 1,
   "metadata": {},
   "outputs": [],
   "source": [
    "import re"
   ]
  },
  {
   "cell_type": "code",
   "execution_count": 2,
   "metadata": {},
   "outputs": [],
   "source": [
    "class Coin():\n",
    "    \n",
    "    def __init__(self, pt, pc=1):\n",
    "        self.p = dict(t=pt, h=1-pt)     # probability of heads or tails\n",
    "        self.pc = pc                    # probability of choosing coin\n",
    "        \n",
    "    def _prob(self, s, n=1):            # probability of flipping n sides\n",
    "        return self.p[s] ** n\n",
    "        \n",
    "    def flips(self, flips):             # probability of exact flip sequence\n",
    "        '''\n",
    "        returns the probability of the exact flip sequence, parsed\n",
    "        from a string\n",
    "        \n",
    "        flips : string\n",
    "            flips is a string indicating number of heads and tails\n",
    "            eg: 'h4t' is one heads, four tails\n",
    "        '''\n",
    "        pr = 1\n",
    "        # finds all number-side pairs in flip string, where '' == 1 flip\n",
    "        parsed = re.findall('([\\d]*)([ht]{1}?)', flips)\n",
    "        for par in parsed:\n",
    "            n = 1                       \n",
    "            if len(par[0]) >= 1:        # if regex finds number of rolls\n",
    "                n = int(par[0])\n",
    "            pr *= self._prob(par[1], n)\n",
    "        return pr\n",
    "    \n",
    "\n",
    "class Coins():\n",
    "    \n",
    "    def __init__(self):\n",
    "        self.coins = []\n",
    "            \n",
    "    def add(self, pt=0.5):\n",
    "        '''\n",
    "        adds a Coin with a given probability of flipping tails.\n",
    "        assumes all Coin will have an equal probability of being\n",
    "        chosen and updates via _coin_prob().\n",
    "        '''\n",
    "        self.coins.append(Coin(pt))\n",
    "        self._coin_prob()\n",
    "        \n",
    "    def _coin_prob(self):\n",
    "        self.num_coins = len(self.coins)\n",
    "        if self.num_coins > 0:\n",
    "            for coin in self.coins:\n",
    "                coin.pc = 1/self.num_coins\n",
    "            \n",
    "    def flips(self, flips, cidx=None):\n",
    "        pr = []                         # probabilities container\n",
    "        for coin in self.coins:\n",
    "            pr.append(coin.flips(flips))\n",
    "        if cidx is None:\n",
    "            return pr\n",
    "        else:\n",
    "            return (pr[cidx]*self.coins[cidx].pc / \n",
    "                    sum([c.pc*pr[i] for i, c in enumerate(self.coins)]))"
   ]
  },
  {
   "cell_type": "code",
   "execution_count": 3,
   "metadata": {},
   "outputs": [
    {
     "data": {
      "text/plain": [
       "[0.25]"
      ]
     },
     "execution_count": 3,
     "metadata": {},
     "output_type": "execute_result"
    }
   ],
   "source": [
    "# sanity check\n",
    "coins = Coins()\n",
    "coins.add(0.5)\n",
    "coins.flips('2t')"
   ]
  },
  {
   "cell_type": "code",
   "execution_count": 4,
   "metadata": {},
   "outputs": [
    {
     "data": {
      "text/plain": [
       "[0]"
      ]
     },
     "execution_count": 4,
     "metadata": {},
     "output_type": "execute_result"
    }
   ],
   "source": [
    "# sanity check\n",
    "coins = Coins()\n",
    "coins.add(1)\n",
    "coins.flips('h')"
   ]
  },
  {
   "cell_type": "code",
   "execution_count": 5,
   "metadata": {},
   "outputs": [
    {
     "data": {
      "text/plain": [
       "0.9846153846153847"
      ]
     },
     "execution_count": 5,
     "metadata": {},
     "output_type": "execute_result"
    }
   ],
   "source": [
    "coins = Coins()\n",
    "coins.add(0.5)              # fair coin\n",
    "coins.add(1)                # unfair coin\n",
    "coins.flips('6t', cidx=1)   # probability of unfair coin if '6t' is flipped"
   ]
  }
 ],
 "metadata": {
  "kernelspec": {
   "display_name": "Python 3",
   "language": "python",
   "name": "python3"
  },
  "language_info": {
   "codemirror_mode": {
    "name": "ipython",
    "version": 3
   },
   "file_extension": ".py",
   "mimetype": "text/x-python",
   "name": "python",
   "nbconvert_exporter": "python",
   "pygments_lexer": "ipython3",
   "version": "3.7.7"
  }
 },
 "nbformat": 4,
 "nbformat_minor": 4
}
