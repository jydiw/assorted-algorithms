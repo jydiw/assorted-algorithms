{
 "cells": [
  {
   "cell_type": "markdown",
   "metadata": {},
   "source": [
    "## Functions as Arguments"
   ]
  },
  {
   "cell_type": "code",
   "execution_count": 47,
   "metadata": {},
   "outputs": [],
   "source": [
    "def say_hello(name):\r\n",
    "  print(f'Hello, {name}!')\r\n",
    "\r\n",
    "def say_goodbye(name):\r\n",
    "  print(f'Goodbye, {name}!')\r\n",
    "\r\n",
    "# functions are first-class objects\r\n",
    "# functions can be passed and used as arguments\r\n",
    "def greet_bob(greeting):\r\n",
    "  return greeting('Bob')"
   ]
  },
  {
   "cell_type": "code",
   "execution_count": 48,
   "metadata": {},
   "outputs": [
    {
     "name": "stdout",
     "output_type": "stream",
     "text": [
      "Hello, Bob!\n"
     ]
    }
   ],
   "source": [
    "greet_bob(say_hello)"
   ]
  },
  {
   "cell_type": "code",
   "execution_count": 49,
   "metadata": {},
   "outputs": [
    {
     "name": "stdout",
     "output_type": "stream",
     "text": [
      "Goodbye, Bob!\n"
     ]
    }
   ],
   "source": [
    "greet_bob(say_goodbye)"
   ]
  },
  {
   "cell_type": "markdown",
   "metadata": {},
   "source": [
    "## Inner Functions"
   ]
  },
  {
   "cell_type": "code",
   "execution_count": 46,
   "metadata": {},
   "outputs": [],
   "source": [
    "def do_some_math(a, b):\r\n",
    "  def add(a, b):\r\n",
    "    return a + b\r\n",
    "  def multiply(a, b):\r\n",
    "    return a*b\r\n",
    "  if a == 1:\r\n",
    "    return multiply(a, b)\r\n",
    "  else:\r\n",
    "    return add(a, b)"
   ]
  },
  {
   "cell_type": "code",
   "execution_count": 34,
   "metadata": {},
   "outputs": [
    {
     "data": {
      "text/plain": "5"
     },
     "execution_count": 34,
     "metadata": {},
     "output_type": "execute_result"
    }
   ],
   "source": [
    "do_some_math(1, 5)"
   ]
  },
  {
   "cell_type": "code",
   "execution_count": 35,
   "metadata": {},
   "outputs": [
    {
     "data": {
      "text/plain": "7"
     },
     "execution_count": 35,
     "metadata": {},
     "output_type": "execute_result"
    }
   ],
   "source": [
    "do_some_math(2, 5)"
   ]
  },
  {
   "cell_type": "markdown",
   "metadata": {},
   "source": [
    "## Returning Functions from Functions"
   ]
  },
  {
   "cell_type": "code",
   "execution_count": 66,
   "metadata": {},
   "outputs": [],
   "source": [
    "def how_tired(tired):\r\n",
    "  def not_tired(num=1):\r\n",
    "    print(f'I am {\"so \" * num}awake!')\r\n",
    "  def kind_of_tired():\r\n",
    "    print('I am kind of tired.')\r\n",
    "  def super_tired(adverb):\r\n",
    "    print(f'I am {adverb} tired!')\r\n",
    "  if tired < 3:\r\n",
    "    return not_tired\r\n",
    "  elif tired > 7:\r\n",
    "    return super_tired\r\n",
    "  else:\r\n",
    "    return kind_of_tired"
   ]
  },
  {
   "cell_type": "code",
   "execution_count": 67,
   "metadata": {},
   "outputs": [
    {
     "name": "stdout",
     "output_type": "stream",
     "text": [
      "I am so so awake!\n"
     ]
    }
   ],
   "source": [
    "awake = how_tired(1)\r\n",
    "awake(2)"
   ]
  },
  {
   "cell_type": "code",
   "execution_count": 68,
   "metadata": {},
   "outputs": [
    {
     "name": "stdout",
     "output_type": "stream",
     "text": [
      "I am extraordinarily tired!\n"
     ]
    }
   ],
   "source": [
    "super = how_tired(8)\r\n",
    "super('extraordinarily')"
   ]
  },
  {
   "cell_type": "markdown",
   "metadata": {},
   "source": [
    "## Simple Decorators"
   ]
  },
  {
   "cell_type": "code",
   "execution_count": 70,
   "metadata": {},
   "outputs": [],
   "source": [
    "def do_twice(func):\r\n",
    "  # this allows you to accept an arbitrary number of arguments\r\n",
    "  def wrapper(*args, **kwargs):\r\n",
    "    func(*args, **kwargs)\r\n",
    "    # make sure the wrapper returns something!\r\n",
    "    return func(*args, **kwargs)\r\n",
    "  return wrapper"
   ]
  },
  {
   "cell_type": "code",
   "execution_count": 71,
   "metadata": {},
   "outputs": [],
   "source": [
    "@do_twice\r\n",
    "def greet_sarah(greeting):\r\n",
    "  return greeting('Sarah')"
   ]
  },
  {
   "cell_type": "code",
   "execution_count": 72,
   "metadata": {},
   "outputs": [
    {
     "name": "stdout",
     "output_type": "stream",
     "text": [
      "Hello, Sarah!\n",
      "Hello, Sarah!\n"
     ]
    }
   ],
   "source": [
    "greet_sarah(say_hello)"
   ]
  },
  {
   "cell_type": "code",
   "execution_count": 73,
   "metadata": {},
   "outputs": [],
   "source": [
    "@do_twice\r\n",
    "def annoyingly_tired(tired):\r\n",
    "  return how_tired(tired)"
   ]
  },
  {
   "cell_type": "code",
   "execution_count": 75,
   "metadata": {},
   "outputs": [
    {
     "name": "stdout",
     "output_type": "stream",
     "text": [
      "I am kind of tired.\n"
     ]
    }
   ],
   "source": [
    "annoyingly_tired(5)()"
   ]
  },
  {
   "cell_type": "code",
   "execution_count": 69,
   "metadata": {},
   "outputs": [
    {
     "name": "stdout",
     "output_type": "stream",
     "text": [
      "I am kind of tired.\n"
     ]
    }
   ],
   "source": [
    "kind_of_kind_of_tired = annoyingly_tired(5)\r\n",
    "kind_of_kind_of_tired()"
   ]
  },
  {
   "cell_type": "code",
   "execution_count": 14,
   "metadata": {},
   "outputs": [],
   "source": [
    "class Tutorial():\r\n",
    "  '''This is practice for writing classes and using decorators.'''\r\n",
    "\r\n",
    "  # the `constructor`\r\n",
    "  def __init__(self, arg, kwarg='Jerry'):\r\n",
    "    self.arg = arg\r\n",
    "    self.kwarg = kwarg\r\n",
    "\r\n",
    "  def parentFunction1(self):\r\n",
    "    return 'Output of parentFunction1'\r\n",
    "\r\n",
    "  "
   ]
  },
  {
   "cell_type": "code",
   "execution_count": 15,
   "metadata": {},
   "outputs": [],
   "source": [
    "# creating instance of class\r\n",
    "tutorial = Tutorial('hello')"
   ]
  },
  {
   "cell_type": "code",
   "execution_count": 16,
   "metadata": {},
   "outputs": [
    {
     "data": {
      "text/plain": "'hello'"
     },
     "execution_count": 16,
     "metadata": {},
     "output_type": "execute_result"
    }
   ],
   "source": [
    "tutorial.arg"
   ]
  },
  {
   "cell_type": "code",
   "execution_count": 17,
   "metadata": {},
   "outputs": [
    {
     "data": {
      "text/plain": "'Jerry'"
     },
     "execution_count": 17,
     "metadata": {},
     "output_type": "execute_result"
    }
   ],
   "source": [
    "tutorial.kwarg"
   ]
  },
  {
   "cell_type": "code",
   "execution_count": 18,
   "metadata": {},
   "outputs": [
    {
     "data": {
      "text/plain": "'Output of parentFunction1'"
     },
     "execution_count": 18,
     "metadata": {},
     "output_type": "execute_result"
    }
   ],
   "source": [
    "tutorial.parentFunction1()"
   ]
  },
  {
   "cell_type": "code",
   "execution_count": 19,
   "metadata": {},
   "outputs": [
    {
     "data": {
      "text/plain": "<function __main__.Tutorial.parentFunction2.<locals>.childFunction1()>"
     },
     "execution_count": 19,
     "metadata": {},
     "output_type": "execute_result"
    }
   ],
   "source": [
    "tutorial.parentFunction2(1)"
   ]
  },
  {
   "cell_type": "code",
   "execution_count": 20,
   "metadata": {},
   "outputs": [
    {
     "data": {
      "text/plain": "'Output of childFunction1'"
     },
     "execution_count": 20,
     "metadata": {},
     "output_type": "execute_result"
    }
   ],
   "source": [
    "tutorial.parentFunction2(1)()"
   ]
  },
  {
   "cell_type": "code",
   "execution_count": 21,
   "metadata": {},
   "outputs": [
    {
     "data": {
      "text/plain": "'Output of childFunction2: Say \"cheese!\"'"
     },
     "execution_count": 21,
     "metadata": {},
     "output_type": "execute_result"
    }
   ],
   "source": [
    "tutorial.parentFunction2(2)('cheese')"
   ]
  },
  {
   "cell_type": "code",
   "execution_count": null,
   "metadata": {},
   "outputs": [],
   "source": []
  }
 ],
 "metadata": {
  "kernelspec": {
   "display_name": "Python 3",
   "name": "python3"
  },
  "language_info": {
   "codemirror_mode": {
    "name": "ipython",
    "version": 3
   },
   "file_extension": ".py",
   "mimetype": "text/x-python",
   "name": "python",
   "nbconvert_exporter": "python",
   "pygments_lexer": "ipython3",
   "version": "3.7.9"
  },
  "orig_nbformat": 2
 },
 "nbformat": 4,
 "nbformat_minor": 2
}