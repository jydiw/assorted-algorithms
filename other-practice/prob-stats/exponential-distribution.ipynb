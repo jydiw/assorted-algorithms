{
 "cells": [
  {
   "cell_type": "markdown",
   "metadata": {},
   "source": [
    "# Intro to Probability and Probability Distributions"
   ]
  },
  {
   "cell_type": "markdown",
   "metadata": {},
   "source": [
    "## Objectives:\n",
    "- define probability\n",
    "- define distribution and random variable\n",
    "- describe the difference between discrete and continuous random variables\n",
    "- understand the difference between probability mass functions and cumulative distribution functions\n",
    "- give real-world examples of different distributions"
   ]
  },
  {
   "cell_type": "markdown",
   "metadata": {},
   "source": [
    "[Probability](https://en.wikipedia.org/wiki/Probability) consists of numerical descriptions of how likely an event is to occur or how likely it is that a proposition is true.\n",
    "\n",
    "In accordance to the scientific method, we must constrain these probabilities within repeatable **experiments** with well-defined outcomes:\n",
    "- Flip a coin twice.\n",
    "- Roll a die once.\n",
    "\n",
    "The **sample space** for a given experiment is the set of *all possible outcomes* of that experiment:\n",
    "- Flip a coin twice: $\\{\\{H,H\\}, \\{T,H\\}, \\{H,T\\}, \\{T,T\\}\\}$\n",
    "- Roll a die once: $\\{1, 2, 3, 4, 5, 6\\}$\n",
    "\n",
    "A **random variable** is what we measure in our experiment:\n",
    "- Flip a coin twice. If $X$ is the number of heads I observe, then $X \\in \\{0, 1, 2\\}$.\n",
    "- Roll a die once. If $X$ is the number I observe, then $X \\in \\{1, 2, 3, 4, 5, 6\\}$.\n",
    "\n",
    "In general, suppose we want to determine the likelihood that event $A$ occurs across all events. We can experimentally determine the probability from $n$ events:\n",
    "\n",
    "$$\n",
    "P(A) = \\lim_{n \\rightarrow \\infty} \\frac{\\text{number of times A occurs}}{n}\n",
    "$$\n",
    "\n",
    "We make assumptions of \"fairness\" when discussing probabilities of random variables. For example, the probability that we observe two heads from flipping a coin twice is $0.25$ since $\\{T, T\\}$ represents one of four possibilities in the sample space."
   ]
  },
  {
   "cell_type": "code",
   "execution_count": 1,
   "metadata": {},
   "outputs": [],
   "source": [
    "import numpy as np\n",
    "import scipy.stats as stats"
   ]
  },
  {
   "cell_type": "markdown",
   "metadata": {},
   "source": [
    "### The Exponential Distribution\n",
    "---\n",
    "The exponential distribution is useful in modeling the **amount of time until a successful event occurs**.\n",
    "\n",
    "Parameters of the distribution:\n",
    "- $\\beta$, the average time between events\n",
    "\n",
    "The exponential PDF is defined as:\n",
    "\n",
    "$$ f(x|\\beta) = \\frac{1}{\\beta}e^{-x/\\beta}$$\n",
    "\n",
    "where $x$ is the time elapsed."
   ]
  },
  {
   "cell_type": "markdown",
   "metadata": {},
   "source": [
    "> Suppose that there is a new service with an API offering with credits where by each credit is capped to a certain amount of API usage. Each customer can use a credit and the lifetime of the credit can be modeled as exponentially distributed with an expectation of 2 days. A particular customer will need the API's capabilities for 60 days. How many credits should they purchase so that the probability of API shortage during the 60 days is no more than 1 percent?"
   ]
  },
  {
   "cell_type": "code",
   "execution_count": 2,
   "metadata": {},
   "outputs": [
    {
     "data": {
      "text/plain": [
       "0.9179150013761012"
      ]
     },
     "execution_count": 2,
     "metadata": {},
     "output_type": "execute_result"
    }
   ],
   "source": [
    "edist = stats.expon(scale=2)\n",
    "edist.cdf(5)"
   ]
  },
  {
   "cell_type": "markdown",
   "metadata": {},
   "source": [
    "If a random variable $X$ is exponentially distributed and its expected value is 2 days, then its standard deviation is also 2 days:\n",
    "\n",
    "$$E[X] = \\frac{1}{\\lambda}$$"
   ]
  },
  {
   "cell_type": "code",
   "execution_count": null,
   "metadata": {},
   "outputs": [],
   "source": []
  }
 ],
 "metadata": {
  "kernelspec": {
   "display_name": "Python 3",
   "language": "python",
   "name": "python3"
  },
  "language_info": {
   "codemirror_mode": {
    "name": "ipython",
    "version": 3
   },
   "file_extension": ".py",
   "mimetype": "text/x-python",
   "name": "python",
   "nbconvert_exporter": "python",
   "pygments_lexer": "ipython3",
   "version": "3.7.9"
  }
 },
 "nbformat": 4,
 "nbformat_minor": 4
}
