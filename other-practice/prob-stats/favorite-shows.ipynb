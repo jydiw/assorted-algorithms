{
 "cells": [
  {
   "cell_type": "markdown",
   "metadata": {},
   "source": [
    "Alice and Bob are choosing their top 3 shows from a list of 50 shows. Assume that they choose independently of one another. Assume also that they choose randomly within the 50 shows. What is the expected number of shows they have in common, and what is the probability that they do not have any shows in common?"
   ]
  },
  {
   "cell_type": "raw",
   "metadata": {},
   "source": [
    "n_shows = 50\r\n",
    "p_any_show = 1 / n_shows\r\n",
    "n_choices = 3\r\n",
    "\r\n"
   ]
  }
 ],
 "metadata": {
  "kernelspec": {
   "display_name": "Python 3",
   "name": "python3"
  },
  "language_info": {
   "name": "python",
   "nbconvert_exporter": "python",
   "version": "3.7.9-final"
  },
  "orig_nbformat": 2
 },
 "nbformat": 4,
 "nbformat_minor": 2
}