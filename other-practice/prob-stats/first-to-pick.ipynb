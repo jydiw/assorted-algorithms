{
 "cells": [
  {
   "cell_type": "markdown",
   "metadata": {},
   "source": [
    "Two people are picking random numbers among a set of O odd numbers and E even numbers without replacement. The first person to pick an even number wins. What is the probability that the first person who picks wins?"
   ]
  },
  {
   "cell_type": "markdown",
   "metadata": {},
   "source": [
    "First person has $E / (E + O)$ chance of winning on first draw.\r\n",
    "\r\n",
    "If this does not occur, then that means both people need to pick odd numbers in the first two moves.\r\n",
    "\r\n",
    "$O / (E + O) * O - 1 / (E + O - 1)$\r\n",
    "\r\n"
   ]
  },
  {
   "cell_type": "raw",
   "metadata": {},
   "source": []
  }
 ],
 "metadata": {
  "kernelspec": {
   "display_name": "Python 3",
   "name": "python3"
  },
  "language_info": {
   "name": "python",
   "nbconvert_exporter": "python",
   "version": "3.7.9-final"
  },
  "orig_nbformat": 2
 },
 "nbformat": 4,
 "nbformat_minor": 2
}