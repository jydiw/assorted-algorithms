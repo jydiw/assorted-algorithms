{
 "cells": [
  {
   "cell_type": "markdown",
   "metadata": {},
   "source": [
    "Given a number n, return the number of lists of consecutive positive integers that sum up to n.\n",
    "\n",
    "For example, for n = 9, you should return 3 since the lists are: `[2, 3, 4]`, `[4, 5]`, and `[9]`. Can you do it in linear time?"
   ]
  },
  {
   "cell_type": "code",
   "execution_count": null,
   "metadata": {},
   "outputs": [],
   "source": [
    "import math"
   ]
  },
  {
   "cell_type": "code",
   "execution_count": 2,
   "metadata": {},
   "outputs": [],
   "source": [
    "# brute force method\n",
    "\n",
    "def num_consecutive_lists(n):\n",
    "    \n",
    "    count = 0\n",
    "    \n",
    "    end = 1\n",
    "    sub = 0\n",
    "    while sub < n:\n",
    "        sub += end\n",
    "        end += 1\n",
    "    end -= 2\n",
    "\n",
    "    for i in range(n, end, -1):\n",
    "        total = 0\n",
    "        while total < n:\n",
    "            total += i\n",
    "            i -= 1\n",
    "        if total == n:\n",
    "            count += 1\n",
    "    \n",
    "    return count"
   ]
  },
  {
   "cell_type": "code",
   "execution_count": 3,
   "metadata": {},
   "outputs": [
    {
     "name": "stdout",
     "output_type": "stream",
     "text": [
      "510 ms ± 2.95 ms per loop (mean ± std. dev. of 7 runs, 1 loop each)\n"
     ]
    }
   ],
   "source": [
    "%timeit num_consecutive_lists(1000001)"
   ]
  },
  {
   "cell_type": "code",
   "execution_count": 4,
   "metadata": {},
   "outputs": [],
   "source": [
    "# quadratic method\n",
    "# since consecutive sum is (2*i + n - 1) * n/2\n",
    "# = 1/2 n**2 + (k - 1/2)n = x\n",
    "\n",
    "\n",
    "def consecutive_quadratic(i, n):\n",
    "    return -i + 0.5 + math.sqrt((i - 0.5)**2 + 2*n)\n",
    "\n",
    "def num_consecutive_lists_2(n):\n",
    "    count = 0\n",
    "    for i in range(1, n+1):\n",
    "        if consecutive_quadratic(i, n).is_integer():\n",
    "            count += 1\n",
    "    return count"
   ]
  },
  {
   "cell_type": "code",
   "execution_count": 5,
   "metadata": {},
   "outputs": [
    {
     "name": "stdout",
     "output_type": "stream",
     "text": [
      "500 ms ± 9.71 ms per loop (mean ± std. dev. of 7 runs, 1 loop each)\n"
     ]
    }
   ],
   "source": [
    "%timeit num_consecutive_lists_2(1000001)"
   ]
  },
  {
   "cell_type": "code",
   "execution_count": 6,
   "metadata": {},
   "outputs": [
    {
     "data": {
      "text/plain": [
       "True"
      ]
     },
     "execution_count": 6,
     "metadata": {},
     "output_type": "execute_result"
    }
   ],
   "source": [
    "num_consecutive_lists(9) == num_consecutive_lists_2(9)"
   ]
  }
 ],
 "metadata": {
  "kernelspec": {
   "display_name": "Python 3",
   "language": "python",
   "name": "python3"
  },
  "language_info": {
   "codemirror_mode": {
    "name": "ipython",
    "version": 3
   },
   "file_extension": ".py",
   "mimetype": "text/x-python",
   "name": "python",
   "nbconvert_exporter": "python",
   "pygments_lexer": "ipython3",
   "version": "3.7.7"
  }
 },
 "nbformat": 4,
 "nbformat_minor": 4
}
