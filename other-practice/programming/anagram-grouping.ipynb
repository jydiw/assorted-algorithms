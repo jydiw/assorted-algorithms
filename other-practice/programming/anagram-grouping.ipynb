{
 "cells": [
  {
   "cell_type": "markdown",
   "metadata": {},
   "source": [
    "Given an array of strings, return a list of lists whereby each list has the strings that are an anagram of one another.\r\n",
    "\r\n",
    "For example, if input is: \r\n",
    "\r\n",
    "```[\"abc\", \"abd\", \"cab\", \"bad\", \"bca\", \"acd\"]``` \r\n",
    "\r\n",
    "then return: \r\n",
    "\r\n",
    "```[[\"abc\", \"cab\", \"bca\"], [\"abd\", \"bad\"], [\"acd\"]]```"
   ]
  },
  {
   "cell_type": "code",
   "execution_count": 1,
   "metadata": {},
   "outputs": [],
   "source": [
    "from collections import defaultdict"
   ]
  },
  {
   "cell_type": "code",
   "execution_count": 19,
   "metadata": {},
   "outputs": [],
   "source": [
    "def anagram_grouper(arr):\r\n",
    "\r\n",
    "    roots = defaultdict(list)\r\n",
    "\r\n",
    "    for s in arr:\r\n",
    "        roots[''.join(sorted(s))].append(s)\r\n",
    "    \r\n",
    "    group = []\r\n",
    "    for g in roots.values():\r\n",
    "        group.append(g)\r\n",
    "    \r\n",
    "    return group"
   ]
  },
  {
   "cell_type": "code",
   "execution_count": 18,
   "metadata": {},
   "outputs": [
    {
     "data": {
      "text/plain": "[['abc', 'cab', 'bca'], ['abd', 'bad'], ['acd']]"
     },
     "execution_count": 18,
     "metadata": {},
     "output_type": "execute_result"
    }
   ],
   "source": [
    "anagram_grouper([\"abc\", \"abd\", \"cab\", \"bad\", \"bca\", \"acd\"])"
   ]
  }
 ],
 "metadata": {
  "kernelspec": {
   "display_name": "Python 3",
   "name": "python3"
  },
  "language_info": {
   "codemirror_mode": {
    "name": "ipython",
    "version": 3
   },
   "file_extension": ".py",
   "mimetype": "text/x-python",
   "name": "python",
   "nbconvert_exporter": "python",
   "pygments_lexer": "ipython3",
   "version": "3.7.9"
  },
  "orig_nbformat": 2
 },
 "nbformat": 4,
 "nbformat_minor": 2
}