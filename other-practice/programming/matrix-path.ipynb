{
 "cells": [
  {
   "cell_type": "markdown",
   "metadata": {},
   "source": [
    "Given an m by n matrix with positive integers, determine the length of the longest path of increasing integers within the matrix.\r\n",
    "\r\n",
    "For example, if the matrix is given by: \r\n",
    "\r\n",
    "```\r\n",
    "[[1, 2, 3],\r\n",
    " [4, 5, 6],\r\n",
    " [7, 8, 9]] \r\n",
    "```\r\n",
    "\r\n",
    "then you should return 5."
   ]
  },
  {
   "cell_type": "code",
   "execution_count": null,
   "metadata": {},
   "outputs": [],
   "source": []
  }
 ],
 "metadata": {
  "kernelspec": {
   "display_name": "Python 3",
   "language": "python",
   "name": "python3"
  },
  "language_info": {
   "name": "python",
   "nbconvert_exporter": "python",
   "version": "3.7.9-final"
  },
  "orig_nbformat": 2
 },
 "nbformat": 4,
 "nbformat_minor": 2
}